{
 "cells": [
  {
   "cell_type": "markdown",
   "id": "dominican-marsh",
   "metadata": {
    "tags": []
   },
   "source": [
    "## Import Important Libraries"
   ]
  },
  {
   "cell_type": "code",
   "execution_count": 1,
   "id": "peripheral-edmonton",
   "metadata": {
    "tags": []
   },
   "outputs": [],
   "source": [
    "import qiskit as q\n",
    "import qiskit.visualization as qv\n",
    "import numpy as np\n",
    "\n",
    "from qiskit import IBMQ, Aer\n",
    "from qiskit.providers.ibmq import least_busy\n",
    "from qiskit import QuantumCircuit, transpile, assemble\n",
    "from qiskit.tools.monitor import job_monitor\n",
    "\n",
    "import matplotlib.style\n",
    "import matplotlib as plt\n",
    "plt.style.use(\"dark_background\")"
   ]
  },
  {
   "cell_type": "markdown",
   "id": "later-heart",
   "metadata": {
    "tags": []
   },
   "source": [
    "## Making the Desired Quantum Circuit"
   ]
  },
  {
   "cell_type": "code",
   "execution_count": 2,
   "id": "right-proposal",
   "metadata": {
    "tags": []
   },
   "outputs": [
    {
     "data": {
      "text/html": [
       "<pre style=\"word-wrap: normal;white-space: pre;background: #fff0;line-height: 1.1;font-family: &quot;Courier New&quot;,Courier,monospace\">     ┌─────────────────────────────┐ ░       ░ ┌───┐┌─┐    ░            \n",
       "q_0: ┤ Initialize(0.83666,0.54772) ├─░───■───░─┤ H ├┤M├────░───────■────\n",
       "     └─────────────────────────────┘ ░ ┌─┴─┐ ░ └───┘└╥┘┌─┐ ░       │    \n",
       "q_1: ────────────────────────────────░─┤ X ├─░───────╫─┤M├─░───■───┼────\n",
       "                                     ░ └───┘ ░       ║ └╥┘ ░ ┌─┴─┐ │ ┌─┐\n",
       "q_2: ────────────────────────────────░───────░───────╫──╫──░─┤ X ├─■─┤M├\n",
       "                                     ░       ░       ║  ║  ░ └───┘   └╥┘\n",
       "c: 1/════════════════════════════════════════════════╩══╩═════════════╩═\n",
       "                                                     0  0             0 </pre>"
      ],
      "text/plain": [
       "     ┌─────────────────────────────┐ ░       ░ ┌───┐┌─┐    ░            \n",
       "q_0: ┤ Initialize(0.83666,0.54772) ├─░───■───░─┤ H ├┤M├────░───────■────\n",
       "     └─────────────────────────────┘ ░ ┌─┴─┐ ░ └───┘└╥┘┌─┐ ░       │    \n",
       "q_1: ────────────────────────────────░─┤ X ├─░───────╫─┤M├─░───■───┼────\n",
       "                                     ░ └───┘ ░       ║ └╥┘ ░ ┌─┴─┐ │ ┌─┐\n",
       "q_2: ────────────────────────────────░───────░───────╫──╫──░─┤ X ├─■─┤M├\n",
       "                                     ░       ░       ║  ║  ░ └───┘   └╥┘\n",
       "c: 1/════════════════════════════════════════════════╩══╩═════════════╩═\n",
       "                                                     0  0             0 "
      ]
     },
     "execution_count": 2,
     "metadata": {},
     "output_type": "execute_result"
    }
   ],
   "source": [
    "circuit = QuantumCircuit(3,1)\n",
    "initial_state = np.array([np.sqrt(0.7),np.sqrt(0.3)]) #initial state of Alice's qubit to be { sqrt(0.7)|0> + sqrt(0.3)|1> }\n",
    "circuit.initialize(initial_state,[0]); circuit.barrier()\n",
    "circuit.cx(0,1); circuit.barrier()\n",
    "circuit.h(0)\n",
    "circuit.measure(0,0); circuit.measure(1,0); circuit.barrier()\n",
    "circuit.cx(1,2); circuit.cz(0,2)\n",
    "circuit.measure(2,0)\n",
    "circuit.draw()"
   ]
  },
  {
   "cell_type": "markdown",
   "id": "characteristic-equipment",
   "metadata": {},
   "source": [
    "# Running the Circuit via QASM Simulator and checking Results (More the shots, better the probability distribution)"
   ]
  },
  {
   "cell_type": "code",
   "execution_count": 3,
   "id": "brave-system",
   "metadata": {
    "tags": []
   },
   "outputs": [
    {
     "data": {
      "image/png": "[encoded data removed]",
      "text/plain": [
       "<Figure size 504x360 with 1 Axes>"
      ]
     },
     "execution_count": 3,
     "metadata": {},
     "output_type": "execute_result"
    }
   ],
   "source": [
    "qasm_sim = Aer.get_backend(\"qasm_simulator\") # Qiskit simulator backend\n",
    "result = q.execute(circuit, qasm_sim, shots=2024).result()  # Results\n",
    "counts = result.get_counts()\n",
    "qv.plot_histogram(counts) #Visualizing o/p of simulator"
   ]
  },
  {
   "cell_type": "markdown",
   "id": "indonesian-equality",
   "metadata": {},
   "source": [
    "# Loading your account and Running the Circuit via Least Busy Quantum Computer and checking Results"
   ]
  },
  {
   "cell_type": "code",
   "execution_count": 4,
   "id": "9f20a9e2-cfd9-4e27-adba-e6051152d5e4",
   "metadata": {
    "scrolled": true,
    "tags": []
   },
   "outputs": [
    {
     "name": "stderr",
     "output_type": "stream",
     "text": [
      "C:\\Users\\Huzefa\\AppData\\Local\\Temp/ipykernel_6484/4250883806.py:2: DeprecationWarning: The qiskit.IBMQ entrypoint and the qiskit-ibmq-provider package (accessible from 'qiskit.providers.ibmq`) are deprecated and will be removed in a future release. Instead you should use the qiskit-ibm-provider package which is accessible from 'qiskit_ibm_provider'. You can install it with 'pip install qiskit_ibm_provider'. Just replace 'qiskit.IBMQ' with 'qiskit_ibm_provider.IBMProvider'\n",
      "  IBMQ.save_account(\"8de7277a56e6becca30f1d2cd5957def658c0f26541eec4ffaf33b0224e975e510fddf7292950f2dd7237518abaa1ef5f53034fc7a726af7ae66ff76ffa9e801\")\n",
      "configrc.store_credentials:WARNING:2023-02-21 19:13:06,938: Credentials already present. Set overwrite=True to overwrite.\n"
     ]
    }
   ],
   "source": [
    "# SAVING AND LOADING YOUR IBM API TOKEN YOU GET WHEN YOU SIGN UP AT IBM QUANTUM COMPUTING \n",
    "IBMQ.save_account(\"8de7277a56e6becca30f1d2cd5957def658c0f26541eec4ffaf33b0224e975e510fddf7292950f2dd7237518abaa1ef5f53034fc7a726af7ae66ff76ffa9e801\")\n",
    "IBMQ.load_account()\n",
    "provider = IBMQ.get_provider(hub = 'ibm-q')\n",
    "backend = least_busy(provider.backends(filters = lambda b: b.configuration().n_qubits >= 2 and not b.configuration().simulator and b.status().operational == True))"
   ]
  },
  {
   "cell_type": "code",
   "execution_count": 5,
   "id": "4f599109-17cb-49db-ad3c-5c69972a4783",
   "metadata": {
    "scrolled": true,
    "tags": []
   },
   "outputs": [
    {
     "name": "stdout",
     "output_type": "stream",
     "text": [
      "Job Status: job has successfully run\n"
     ]
    }
   ],
   "source": [
    "#Executing the Circuit on Least Busy Quantum Computer\n",
    "t_qc = transpile(circuit, backend, optimization_level = 3)\n",
    "job = backend.run(t_qc)\n",
    "job_monitor(job)"
   ]
  },
  {
   "cell_type": "code",
   "execution_count": 6,
   "id": "11025c8f",
   "metadata": {},
   "outputs": [
    {
     "data": {
      "image/png": "[encoded data removed]",
      "text/plain": [
       "<Figure size 504x360 with 1 Axes>"
      ]
     },
     "execution_count": 6,
     "metadata": {},
     "output_type": "execute_result"
    }
   ],
   "source": [
    "result = job.result()\n",
    "counts = result.get_counts()\n",
    "qv.plot_histogram(counts)"
   ]
  },
  {
   "cell_type": "code",
   "execution_count": null,
   "id": "229d63bb",
   "metadata": {},
   "outputs": [],
   "source": []
  }
 ],
 "metadata": {
  "kernelspec": {
   "display_name": "Python 3 (ipykernel)",
   "language": "python",
   "name": "python3"
  },
  "language_info": {
   "codemirror_mode": {
    "name": "ipython",
    "version": 3
   },
   "file_extension": ".py",
   "mimetype": "text/x-python",
   "name": "python",
   "nbconvert_exporter": "python",
   "pygments_lexer": "ipython3",
   "version": "3.11.2"
  }
 },
 "nbformat": 4,
 "nbformat_minor": 5
}
