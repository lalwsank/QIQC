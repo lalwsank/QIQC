{
 "cells": [
  {
   "cell_type": "markdown",
   "id": "dominican-marsh",
   "metadata": {
    "tags": []
   },
   "source": [
    "## Import Important Libraries"
   ]
  },
  {
   "cell_type": "code",
   "execution_count": 2,
   "id": "peripheral-edmonton",
   "metadata": {
    "tags": []
   },
   "outputs": [],
   "source": [
    "import qiskit as q\n",
    "import qiskit.visualization as qv\n",
    "from qiskit import IBMQ, Aer\n",
    "from qiskit.providers.ibmq import least_busy\n",
    "from qiskit import QuantumCircuit, transpile, assemble\n",
    "from qiskit.tools.monitor import job_monitor\n",
    "import matplotlib.style\n",
    "import matplotlib as plt\n",
    "plt.style.use(\"dark_background\")"
   ]
  },
  {
   "cell_type": "markdown",
   "id": "later-heart",
   "metadata": {
    "tags": []
   },
   "source": [
    "## Making the Desired Quantum Circuit"
   ]
  },
  {
   "cell_type": "code",
   "execution_count": 3,
   "id": "right-proposal",
   "metadata": {
    "tags": []
   },
   "outputs": [
    {
     "data": {
      "text/html": [
       "<pre style=\"word-wrap: normal;white-space: pre;background: #fff0;line-height: 1.1;font-family: &quot;Courier New&quot;,Courier,monospace\">     ┌───┐┌─┐ ░       ░       ░       ░    \n",
       "q_0: ┤ H ├┤M├─░───────░───■───░───────░────\n",
       "     └───┘└╥┘ ░ ┌───┐ ░ ┌─┴─┐ ░ ┌───┐ ░ ┌─┐\n",
       "q_1: ──────╫──░─┤ H ├─░─┤ X ├─░─┤ H ├─░─┤M├\n",
       "           ║  ░ └───┘ ░ └───┘ ░ └───┘ ░ └╥┘\n",
       "c: 1/══════╩═════════════════════════════╩═\n",
       "           0                             0 </pre>"
      ],
      "text/plain": [
       "     ┌───┐┌─┐ ░       ░       ░       ░    \n",
       "q_0: ┤ H ├┤M├─░───────░───■───░───────░────\n",
       "     └───┘└╥┘ ░ ┌───┐ ░ ┌─┴─┐ ░ ┌───┐ ░ ┌─┐\n",
       "q_1: ──────╫──░─┤ H ├─░─┤ X ├─░─┤ H ├─░─┤M├\n",
       "           ║  ░ └───┘ ░ └───┘ ░ └───┘ ░ └╥┘\n",
       "c: 1/══════╩═════════════════════════════╩═\n",
       "           0                             0 "
      ]
     },
     "execution_count": 3,
     "metadata": {},
     "output_type": "execute_result"
    }
   ],
   "source": [
    "circuit = QuantumCircuit(2,1)\n",
    "circuit.h(0); circuit.measure(0,0); circuit.barrier() # Creating and Ensamble of 50% |0> and 50% |1>\n",
    "circuit.h(1); circuit.barrier()  # QC Creates a superposition of [1/Sqrt(2)]{ |0> + |1> } to decide to flip or not\n",
    "circuit.cx(0,1);circuit.barrier() # Randomly decide whether to later flip or not\n",
    "circuit.h(1);circuit.barrier() # QC again decides whether to flip or not\n",
    "circuit.measure(1,0) # Measure the Final Result\n",
    "circuit.draw()"
   ]
  },
  {
   "cell_type": "markdown",
   "id": "characteristic-equipment",
   "metadata": {},
   "source": [
    "# Running the Circuit via QASM Simulator and checking Results (More the shots, better the probability distribution)"
   ]
  },
  {
   "cell_type": "code",
   "execution_count": 4,
   "id": "brave-system",
   "metadata": {
    "tags": []
   },
   "outputs": [
    {
     "data": {
      "image/png": "[encoded data removed]",
      "text/plain": [
       "<Figure size 700x500 with 1 Axes>"
      ]
     },
     "execution_count": 4,
     "metadata": {},
     "output_type": "execute_result"
    }
   ],
   "source": [
    "qasm_sim = Aer.get_backend(\"qasm_simulator\") # Qiskit simulator backend\n",
    "result = q.execute(circuit, qasm_sim, shots=2024).result()  # Results\n",
    "counts = result.get_counts()\n",
    "qv.plot_histogram(counts) #Visualizing o/p of simulator"
   ]
  },
  {
   "cell_type": "markdown",
   "id": "indonesian-equality",
   "metadata": {},
   "source": [
    "# Loading your account and Running the Circuit via Least Busy Quantum Computer and checking Results"
   ]
  },
  {
   "cell_type": "code",
   "execution_count": 4,
   "id": "9f20a9e2-cfd9-4e27-adba-e6051152d5e4",
   "metadata": {
    "scrolled": true,
    "tags": []
   },
   "outputs": [
    {
     "name": "stderr",
     "output_type": "stream",
     "text": [
      "C:\\Users\\Sanket Lalwani\\AppData\\Local\\Temp\\ipykernel_3756\\4250883806.py:2: DeprecationWarning: The qiskit.IBMQ entrypoint and the qiskit-ibmq-provider package (accessible from 'qiskit.providers.ibmq`) are deprecated and will be removed in a future release. Instead you should use the qiskit-ibm-provider package which is accessible from 'qiskit_ibm_provider'. You can install it with 'pip install qiskit_ibm_provider'. Just replace 'qiskit.IBMQ' with 'qiskit_ibm_provider.IBMProvider'\n",
      "  IBMQ.save_account(\"8de7277a56e6becca30f1d2cd5957def658c0f26541eec4ffaf33b0224e975e510fddf7292950f2dd7237518abaa1ef5f53034fc7a726af7ae66ff76ffa9e801\")\n",
      "configrc.store_credentials:WARNING:2023-03-27 01:49:26,450: Credentials already present. Set overwrite=True to overwrite.\n"
     ]
    }
   ],
   "source": [
    "# SAVING AND LOADING YOUR IBM API TOKEN YOU GET WHEN YOU SIGN UP AT IBM QUANTUM COMPUTING \n",
    "IBMQ.save_account(\"8de7277a56e6becca30f1d2cd5957def658c0f26541eec4ffaf33b0224e975e510fddf7292950f2dd7237518abaa1ef5f53034fc7a726af7ae66ff76ffa9e801\")\n",
    "IBMQ.load_account()\n",
    "provider = IBMQ.get_provider(hub = 'ibm-q')\n",
    "backend = least_busy(provider.backends(filters = lambda b: b.configuration().n_qubits >= 2 and not b.configuration().simulator and b.status().operational == True))"
   ]
  },
  {
   "cell_type": "code",
   "execution_count": null,
   "id": "4f599109-17cb-49db-ad3c-5c69972a4783",
   "metadata": {
    "scrolled": true,
    "tags": []
   },
   "outputs": [
    {
     "name": "stdout",
     "output_type": "stream",
     "text": [
      "Job Status: job is queued (20)    "
     ]
    }
   ],
   "source": [
    "#Executing the Circuit on Least Busy Quantum Computer\n",
    "t_qc = transpile(circuit, backend, optimization_level = 3)\n",
    "job = backend.run(t_qc)\n",
    "job_monitor(job)"
   ]
  },
  {
   "cell_type": "markdown",
   "id": "2cc49532-2bdf-4482-b868-283ef34edd56",
   "metadata": {
    "tags": []
   },
   "source": [
    "## Retrieving Job"
   ]
  },
  {
   "cell_type": "code",
   "execution_count": 5,
   "id": "38967205-b8c5-41ce-bff7-b5e5b7ad3064",
   "metadata": {
    "tags": []
   },
   "outputs": [
    {
     "name": "stderr",
     "output_type": "stream",
     "text": [
      "ibmqfactory.load_account:WARNING:2023-03-27 01:49:43,093: Credentials are already in use. The existing account in the session will be replaced.\n"
     ]
    },
    {
     "name": "stdout",
     "output_type": "stream",
     "text": [
      "Job Status: job has successfully run\n"
     ]
    }
   ],
   "source": [
    "# Load your IBM Quantum account\n",
    "account = IBMQ.load_account()\n",
    "\n",
    "# Retrieve the job using the job ID\n",
    "job = account.get_backend('ibmq_manila').retrieve_job('63f226f62a88b6b2dbe25a02')\n",
    "\n",
    "# Monitor the job to check its status\n",
    "job_monitor(job)\n",
    "# Get the result from the job\n",
    "result = job.result()"
   ]
  }
 ],
 "metadata": {
  "kernelspec": {
   "display_name": "Python 3 (ipykernel)",
   "language": "python",
   "name": "python3"
  },
  "language_info": {
   "codemirror_mode": {
    "name": "ipython",
    "version": 3
   },
   "file_extension": ".py",
   "mimetype": "text/x-python",
   "name": "python",
   "nbconvert_exporter": "python",
   "pygments_lexer": "ipython3",
   "version": "3.11.2"
  }
 },
 "nbformat": 4,
 "nbformat_minor": 5
}
