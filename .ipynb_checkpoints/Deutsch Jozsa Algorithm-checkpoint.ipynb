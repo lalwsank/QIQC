{
 "cells": [
  {
   "cell_type": "markdown",
   "id": "34207bd9-0797-42a0-b132-14d4671dc314",
   "metadata": {},
   "source": [
    "### Importing Libraries and IBMQ Account"
   ]
  },
  {
   "cell_type": "code",
   "execution_count": 2,
   "id": "c36e826d-bcd1-48da-9311-a9c084ba1dee",
   "metadata": {
    "collapsed": true,
    "jupyter": {
     "outputs_hidden": true,
     "source_hidden": true
    },
    "tags": []
   },
   "outputs": [
    {
     "name": "stderr",
     "output_type": "stream",
     "text": [
      "C:\\Users\\Sanket Lalwani\\AppData\\Local\\Temp\\ipykernel_14988\\104988094.py:14: DeprecationWarning: The qiskit.IBMQ entrypoint and the qiskit-ibmq-provider package (accessible from 'qiskit.providers.ibmq`) are deprecated and will be removed in a future release. Instead you should use the qiskit-ibm-provider package which is accessible from 'qiskit_ibm_provider'. You can install it with 'pip install qiskit_ibm_provider'. Just replace 'qiskit.IBMQ' with 'qiskit_ibm_provider.IBMProvider'\n",
      "  IBMQ.save_account(\"8de7277a56e6becca30f1d2cd5957def658c0f26541eec4ffaf33b0224e975e510fddf7292950f2dd7237518abaa1ef5f53034fc7a726af7ae66ff76ffa9e801\")\n",
      "configrc.store_credentials:WARNING:2023-04-29 00:49:39,512: Credentials already present. Set overwrite=True to overwrite.\n"
     ]
    },
    {
     "data": {
      "text/plain": [
       "<AccountProvider for IBMQ(hub='ibm-q', group='open', project='main')>"
      ]
     },
     "execution_count": 2,
     "metadata": {},
     "output_type": "execute_result"
    }
   ],
   "source": [
    "import qiskit as q\n",
    "import qiskit.visualization as qv\n",
    "import numpy as np\n",
    "\n",
    "from qiskit import IBMQ, Aer\n",
    "from qiskit.providers.ibmq import least_busy\n",
    "from qiskit import QuantumCircuit, transpile, assemble\n",
    "from qiskit.tools.monitor import job_monitor\n",
    "\n",
    "import matplotlib.style\n",
    "import matplotlib as plt\n",
    "plt.style.use(\"dark_background\")\n",
    "\n",
    "IBMQ.save_account(\"8de7277a56e6becca30f1d2cd5957def658c0f26541eec4ffaf33b0224e975e510fddf7292950f2dd7237518abaa1ef5f53034fc7a726af7ae66ff76ffa9e801\")\n",
    "IBMQ.load_account()"
   ]
  },
  {
   "cell_type": "markdown",
   "id": "4ab9e368-016b-4c0e-8ba8-29cb0899f6aa",
   "metadata": {
    "tags": []
   },
   "source": [
    "#### Defining balanced and constant function Black Boxes"
   ]
  },
  {
   "cell_type": "code",
   "execution_count": 37,
   "id": "f04e0a59-e062-4aae-9b13-d1bd2bda8595",
   "metadata": {
    "jupyter": {
     "source_hidden": true
    },
    "tags": []
   },
   "outputs": [],
   "source": [
    "def balanced(n):\n",
    "    c = QuantumCircuit(n+1,n)\n",
    "    c.x(n)\n",
    "    c.barrier()    \n",
    "    for i in range(n+1):\n",
    "        c.h(i)\n",
    "    c.barrier()\n",
    "    for i in range(n):\n",
    "        c.cx(i,n)\n",
    "    c.barrier()\n",
    "    for i in range(n):\n",
    "        c.h(i)\n",
    "    for i in range(n):\n",
    "        c.measure(i,i)        \n",
    "    return c"
   ]
  },
  {
   "cell_type": "code",
   "execution_count": 38,
   "id": "0d3691be-938f-441b-84de-11466ed11cf9",
   "metadata": {
    "jupyter": {
     "source_hidden": true
    },
    "tags": []
   },
   "outputs": [],
   "source": [
    "def constant(n):\n",
    "    c = QuantumCircuit(n+1,n)\n",
    "    c.x(n)\n",
    "    c.barrier()    \n",
    "    for i in range(n+1):\n",
    "        c.h(i)\n",
    "    c.barrier()\n",
    " \n",
    "    c.barrier()\n",
    "    for i in range(n):\n",
    "        c.h(i)\n",
    "    for i in range(n):\n",
    "        c.measure(i,i)        \n",
    "    return c"
   ]
  },
  {
   "cell_type": "markdown",
   "id": "89efc3c7-fd50-4197-ba9c-b0070850aca7",
   "metadata": {
    "tags": []
   },
   "source": [
    "#### Creating our Quantum Circuits with Hadamard Sandwich for Balanced and Constant respectively"
   ]
  },
  {
   "cell_type": "code",
   "execution_count": 39,
   "id": "176a8364-9405-4c65-9dde-184a93601f88",
   "metadata": {
    "tags": []
   },
   "outputs": [
    {
     "data": {
      "text/html": [
       "<pre style=\"word-wrap: normal;white-space: pre;background: #fff0;line-height: 1.1;font-family: &quot;Courier New&quot;,Courier,monospace\">           ░ ┌───┐ ░                 ░ ┌───┐┌─┐      \n",
       "q_0: ──────░─┤ H ├─░───■─────────────░─┤ H ├┤M├──────\n",
       "           ░ ├───┤ ░   │             ░ ├───┤└╥┘┌─┐   \n",
       "q_1: ──────░─┤ H ├─░───┼────■────────░─┤ H ├─╫─┤M├───\n",
       "           ░ ├───┤ ░   │    │        ░ ├───┤ ║ └╥┘┌─┐\n",
       "q_2: ──────░─┤ H ├─░───┼────┼────■───░─┤ H ├─╫──╫─┤M├\n",
       "     ┌───┐ ░ ├───┤ ░ ┌─┴─┐┌─┴─┐┌─┴─┐ ░ └───┘ ║  ║ └╥┘\n",
       "q_3: ┤ X ├─░─┤ H ├─░─┤ X ├┤ X ├┤ X ├─░───────╫──╫──╫─\n",
       "     └───┘ ░ └───┘ ░ └───┘└───┘└───┘ ░       ║  ║  ║ \n",
       "c: 3/════════════════════════════════════════╩══╩══╩═\n",
       "                                             0  1  2 </pre>"
      ],
      "text/plain": [
       "           ░ ┌───┐ ░                 ░ ┌───┐┌─┐      \n",
       "q_0: ──────░─┤ H ├─░───■─────────────░─┤ H ├┤M├──────\n",
       "           ░ ├───┤ ░   │             ░ ├───┤└╥┘┌─┐   \n",
       "q_1: ──────░─┤ H ├─░───┼────■────────░─┤ H ├─╫─┤M├───\n",
       "           ░ ├───┤ ░   │    │        ░ ├───┤ ║ └╥┘┌─┐\n",
       "q_2: ──────░─┤ H ├─░───┼────┼────■───░─┤ H ├─╫──╫─┤M├\n",
       "     ┌───┐ ░ ├───┤ ░ ┌─┴─┐┌─┴─┐┌─┴─┐ ░ └───┘ ║  ║ └╥┘\n",
       "q_3: ┤ X ├─░─┤ H ├─░─┤ X ├┤ X ├┤ X ├─░───────╫──╫──╫─\n",
       "     └───┘ ░ └───┘ ░ └───┘└───┘└───┘ ░       ║  ║  ║ \n",
       "c: 3/════════════════════════════════════════╩══╩══╩═\n",
       "                                             0  1  2 "
      ]
     },
     "execution_count": 39,
     "metadata": {},
     "output_type": "execute_result"
    }
   ],
   "source": [
    "cb = balanced(3)\n",
    "cb.draw()"
   ]
  },
  {
   "cell_type": "code",
   "execution_count": 40,
   "id": "f8c0806d-4f5c-4142-b84c-24ab695ca394",
   "metadata": {
    "tags": []
   },
   "outputs": [
    {
     "data": {
      "text/html": [
       "<pre style=\"word-wrap: normal;white-space: pre;background: #fff0;line-height: 1.1;font-family: &quot;Courier New&quot;,Courier,monospace\">           ░ ┌───┐ ░  ░ ┌───┐┌─┐      \n",
       "q_0: ──────░─┤ H ├─░──░─┤ H ├┤M├──────\n",
       "           ░ ├───┤ ░  ░ ├───┤└╥┘┌─┐   \n",
       "q_1: ──────░─┤ H ├─░──░─┤ H ├─╫─┤M├───\n",
       "           ░ ├───┤ ░  ░ ├───┤ ║ └╥┘┌─┐\n",
       "q_2: ──────░─┤ H ├─░──░─┤ H ├─╫──╫─┤M├\n",
       "     ┌───┐ ░ ├───┤ ░  ░ └───┘ ║  ║ └╥┘\n",
       "q_3: ┤ X ├─░─┤ H ├─░──░───────╫──╫──╫─\n",
       "     └───┘ ░ └───┘ ░  ░       ║  ║  ║ \n",
       "c: 3/═════════════════════════╩══╩══╩═\n",
       "                              0  1  2 </pre>"
      ],
      "text/plain": [
       "           ░ ┌───┐ ░  ░ ┌───┐┌─┐      \n",
       "q_0: ──────░─┤ H ├─░──░─┤ H ├┤M├──────\n",
       "           ░ ├───┤ ░  ░ ├───┤└╥┘┌─┐   \n",
       "q_1: ──────░─┤ H ├─░──░─┤ H ├─╫─┤M├───\n",
       "           ░ ├───┤ ░  ░ ├───┤ ║ └╥┘┌─┐\n",
       "q_2: ──────░─┤ H ├─░──░─┤ H ├─╫──╫─┤M├\n",
       "     ┌───┐ ░ ├───┤ ░  ░ └───┘ ║  ║ └╥┘\n",
       "q_3: ┤ X ├─░─┤ H ├─░──░───────╫──╫──╫─\n",
       "     └───┘ ░ └───┘ ░  ░       ║  ║  ║ \n",
       "c: 3/═════════════════════════╩══╩══╩═\n",
       "                              0  1  2 "
      ]
     },
     "execution_count": 40,
     "metadata": {},
     "output_type": "execute_result"
    }
   ],
   "source": [
    "cc = constant(3)\n",
    "cc.draw()"
   ]
  },
  {
   "cell_type": "code",
   "execution_count": 41,
   "id": "0cd2d1c8-1e11-4a15-8ae7-a4b41e1be797",
   "metadata": {
    "tags": []
   },
   "outputs": [
    {
     "data": {
      "image/png": "[encoded data removed]",
      "text/plain": [
       "<Figure size 700x500 with 1 Axes>"
      ]
     },
     "execution_count": 41,
     "metadata": {},
     "output_type": "execute_result"
    }
   ],
   "source": [
    "qasm_sim = Aer.get_backend(\"qasm_simulator\") # Qiskit simulator backend\n",
    "result = q.execute(cb, qasm_sim, shots=2024).result()  # Results\n",
    "counts = result.get_counts()\n",
    "qv.plot_histogram(counts)"
   ]
  },
  {
   "cell_type": "code",
   "execution_count": 42,
   "id": "817e4d7f-9481-4b05-8fcb-a95075378283",
   "metadata": {
    "tags": []
   },
   "outputs": [
    {
     "data": {
      "image/png": "[encoded data removed]",
      "text/plain": [
       "<Figure size 700x500 with 1 Axes>"
      ]
     },
     "execution_count": 42,
     "metadata": {},
     "output_type": "execute_result"
    }
   ],
   "source": [
    "qasm_sim = Aer.get_backend(\"qasm_simulator\") # Qiskit simulator backend\n",
    "result = q.execute(cc, qasm_sim, shots=2024).result()  # Results\n",
    "counts = result.get_counts()\n",
    "qv.plot_histogram(counts)"
   ]
  },
  {
   "cell_type": "code",
   "execution_count": 6,
   "id": "8182217e-de6d-4150-9c2f-600cc894a636",
   "metadata": {
    "tags": []
   },
   "outputs": [
    {
     "data": {
      "text/html": [
       "<pre style=\"word-wrap: normal;white-space: pre;background: #fff0;line-height: 1.1;font-family: &quot;Courier New&quot;,Courier,monospace\">     ┌───┐┌───┐ ░       ░ ┌───┐┌─┐   \n",
       "q_0: ┤ I ├┤ H ├─░───────░─┤ H ├┤M├───\n",
       "     ├───┤├───┤ ░       ░ ├───┤└╥┘┌─┐\n",
       "q_1: ┤ I ├┤ H ├─░───■───░─┤ H ├─╫─┤M├\n",
       "     ├───┤├───┤ ░ ┌─┴─┐ ░ ├───┤ ║ └╥┘\n",
       "q_2: ┤ X ├┤ H ├─░─┤ X ├─░─┤ H ├─╫──╫─\n",
       "     └───┘└───┘ ░ └───┘ ░ └───┘ ║  ║ \n",
       "c: 2/═══════════════════════════╩══╩═\n",
       "                                0  1 </pre>"
      ],
      "text/plain": [
       "     ┌───┐┌───┐ ░       ░ ┌───┐┌─┐   \n",
       "q_0: ┤ I ├┤ H ├─░───────░─┤ H ├┤M├───\n",
       "     ├───┤├───┤ ░       ░ ├───┤└╥┘┌─┐\n",
       "q_1: ┤ I ├┤ H ├─░───■───░─┤ H ├─╫─┤M├\n",
       "     ├───┤├───┤ ░ ┌─┴─┐ ░ ├───┤ ║ └╥┘\n",
       "q_2: ┤ X ├┤ H ├─░─┤ X ├─░─┤ H ├─╫──╫─\n",
       "     └───┘└───┘ ░ └───┘ ░ └───┘ ║  ║ \n",
       "c: 2/═══════════════════════════╩══╩═\n",
       "                                0  1 "
      ]
     },
     "execution_count": 6,
     "metadata": {},
     "output_type": "execute_result"
    }
   ],
   "source": [
    "circuit = QuantumCircuit(3,2)\n",
    "circuit.i(0) ; circuit.i(1) ; circuit.x(2) ; \n",
    "circuit.h(0) ; circuit.h(1) ; circuit.h(2)\n",
    "circuit.barrier()\n",
    "circuit.cx(1,2)\n",
    "circuit.barrier()\n",
    "circuit.h(0) ; circuit.h(1) ; circuit.h(2)\n",
    "circuit.measure(0,0) ; circuit.measure(1,1)\n",
    "circuit.draw()"
   ]
  },
  {
   "cell_type": "code",
   "execution_count": 7,
   "id": "8a6d3eff-6054-4c0b-8982-c6d337e72010",
   "metadata": {
    "tags": []
   },
   "outputs": [
    {
     "data": {
      "image/png": "[encoded data removed]",
      "text/plain": [
       "<Figure size 700x500 with 1 Axes>"
      ]
     },
     "execution_count": 7,
     "metadata": {},
     "output_type": "execute_result"
    }
   ],
   "source": [
    "qasm_sim = Aer.get_backend(\"qasm_simulator\") # Qiskit simulator backend\n",
    "result = q.execute(circuit, qasm_sim, shots=2024).result()  # Results\n",
    "counts = result.get_counts()\n",
    "qv.plot_histogram(counts) #Visualizing o/p of simulator"
   ]
  },
  {
   "cell_type": "code",
   "execution_count": 22,
   "id": "161cf71e-10c7-4b8b-b4d9-764589c0e96a",
   "metadata": {
    "tags": []
   },
   "outputs": [
    {
     "name": "stdout",
     "output_type": "stream",
     "text": [
      "Job Status: job has successfully run\n"
     ]
    }
   ],
   "source": [
    "provider = IBMQ.get_provider(hub = 'ibm-q')\n",
    "backend = least_busy(provider.backends(filters = lambda b: b.configuration().n_qubits >= 2 and not b.configuration().simulator and b.status().operational == True))\n",
    "t_qc = transpile(circuit, backend, optimization_level = 3)\n",
    "job = backend.run(t_qc)\n",
    "job_monitor(job)"
   ]
  },
  {
   "cell_type": "code",
   "execution_count": 23,
   "id": "f574a0c8-6b1c-40cc-bff4-da6a80bb61dc",
   "metadata": {
    "tags": []
   },
   "outputs": [
    {
     "data": {
      "image/png": "[encoded data removed]",
      "text/plain": [
       "<Figure size 700x500 with 1 Axes>"
      ]
     },
     "execution_count": 23,
     "metadata": {},
     "output_type": "execute_result"
    }
   ],
   "source": [
    "result = job.result()\n",
    "counts = result.get_counts()\n",
    "qv.plot_histogram(counts)"
   ]
  },
  {
   "cell_type": "code",
   "execution_count": null,
   "id": "2e4fb6b8-4d1f-4dfc-8e23-a5d08d16938f",
   "metadata": {},
   "outputs": [],
   "source": []
  }
 ],
 "metadata": {
  "kernelspec": {
   "display_name": "Python 3 (ipykernel)",
   "language": "python",
   "name": "python3"
  },
  "language_info": {
   "codemirror_mode": {
    "name": "ipython",
    "version": 3
   },
   "file_extension": ".py",
   "mimetype": "text/x-python",
   "name": "python",
   "nbconvert_exporter": "python",
   "pygments_lexer": "ipython3",
   "version": "3.11.2"
  }
 },
 "nbformat": 4,
 "nbformat_minor": 5
}
