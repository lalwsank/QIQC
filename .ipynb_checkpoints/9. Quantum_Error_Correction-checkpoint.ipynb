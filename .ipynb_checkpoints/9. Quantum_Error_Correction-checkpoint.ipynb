{
 "cells": [
  {
   "cell_type": "markdown",
   "id": "92476fb8-4996-4693-98aa-cab56650caf0",
   "metadata": {},
   "source": [
    "#### Importing Libraries"
   ]
  },
  {
   "cell_type": "code",
   "execution_count": 2,
   "id": "fa122692-1481-44f5-9dac-fc85c8996321",
   "metadata": {
    "tags": []
   },
   "outputs": [],
   "source": [
    "import qiskit as q\n",
    "import qiskit.visualization as qv\n",
    "import numpy as np\n",
    "\n",
    "from qiskit import IBMQ, Aer\n",
    "from qiskit.providers.ibmq import least_busy\n",
    "from qiskit import QuantumCircuit, transpile, assemble\n",
    "from qiskit.tools.monitor import job_monitor\n",
    "from qiskit.circuit.library import GroverOperator\n",
    "\n",
    "import matplotlib.style\n",
    "import matplotlib as plt\n",
    "plt.style.use(\"dark_background\")"
   ]
  },
  {
   "cell_type": "markdown",
   "id": "065b909b-9d34-4426-9043-0df7bfeed982",
   "metadata": {},
   "source": [
    "#### Defining our Quantum Circuit"
   ]
  },
  {
   "cell_type": "code",
   "execution_count": 52,
   "id": "67d62e10-abc2-4b59-972e-49c89fd3dc23",
   "metadata": {
    "tags": []
   },
   "outputs": [
    {
     "data": {
      "text/html": [
       "<pre style=\"word-wrap: normal;white-space: pre;background: #fff0;line-height: 1.1;font-family: &quot;Courier New&quot;,Courier,monospace\">           ┌─────────────────────────────┐ ░            ░ ┌───┐ ░           »\n",
       "     Data: ┤ Initialize(0.83666,0.54772) ├─░───■────■───░─┤ X ├─░───■───────»\n",
       "           └─────────────────────────────┘ ░ ┌─┴─┐  │   ░ └───┘ ░   │       »\n",
       "  Extra_0: ────────────────────────────────░─┤ X ├──┼───░───────░───┼────■──»\n",
       "                                           ░ └───┘┌─┴─┐ ░       ░   │    │  »\n",
       "  Extra_1: ────────────────────────────────░──────┤ X ├─░───────░───┼────┼──»\n",
       "                                           ░      └───┘ ░       ░ ┌─┴─┐┌─┴─┐»\n",
       "Ancilla_0: ────────────────────────────────░────────────░───────░─┤ X ├┤ X ├»\n",
       "                                           ░            ░       ░ └───┘└───┘»\n",
       "Ancilla_1: ────────────────────────────────░────────────░───────░───────────»\n",
       "                                           ░            ░       ░           »\n",
       "Measure: 1/═════════════════════════════════════════════════════════════════»\n",
       "                                                                            »\n",
       "«                      ░ ┌───┐     ┌───┐           ░            ░ ┌─┐\n",
       "«     Data: ───────────░─┤ X ├─────┤ X ├───────────░───■────■───░─┤M├\n",
       "«                      ░ └─┬─┘     └─┬─┘┌───┐      ░   │  ┌─┴─┐ ░ └╥┘\n",
       "«  Extra_0: ──■────────░───┼─────────┼──┤ X ├──────░───┼──┤ X ├─░──╫─\n",
       "«             │        ░   │  ┌───┐  │  └─┬─┘┌───┐ ░ ┌─┴─┐└───┘ ░  ║ \n",
       "«  Extra_1: ──┼────■───░───┼──┤ X ├──┼────┼──┤ X ├─░─┤ X ├──────░──╫─\n",
       "«             │    │   ░   │  └─┬─┘  │    │  └─┬─┘ ░ └───┘      ░  ║ \n",
       "«Ancilla_0: ──┼────┼───░───■────┼────■────■────■───░────────────░──╫─\n",
       "«           ┌─┴─┐┌─┴─┐ ░        │    │    │    │   ░            ░  ║ \n",
       "«Ancilla_1: ┤ X ├┤ X ├─░────────■────■────■────■───░────────────░──╫─\n",
       "«           └───┘└───┘ ░                           ░            ░  ║ \n",
       "«Measure: 1/═══════════════════════════════════════════════════════╩═\n",
       "«                                                                  0 </pre>"
      ],
      "text/plain": [
       "           ┌─────────────────────────────┐ ░            ░ ┌───┐ ░           »\n",
       "     Data: ┤ Initialize(0.83666,0.54772) ├─░───■────■───░─┤ X ├─░───■───────»\n",
       "           └─────────────────────────────┘ ░ ┌─┴─┐  │   ░ └───┘ ░   │       »\n",
       "  Extra_0: ────────────────────────────────░─┤ X ├──┼───░───────░───┼────■──»\n",
       "                                           ░ └───┘┌─┴─┐ ░       ░   │    │  »\n",
       "  Extra_1: ────────────────────────────────░──────┤ X ├─░───────░───┼────┼──»\n",
       "                                           ░      └───┘ ░       ░ ┌─┴─┐┌─┴─┐»\n",
       "Ancilla_0: ────────────────────────────────░────────────░───────░─┤ X ├┤ X ├»\n",
       "                                           ░            ░       ░ └───┘└───┘»\n",
       "Ancilla_1: ────────────────────────────────░────────────░───────░───────────»\n",
       "                                           ░            ░       ░           »\n",
       "Measure: 1/═════════════════════════════════════════════════════════════════»\n",
       "                                                                            »\n",
       "«                      ░ ┌───┐     ┌───┐           ░            ░ ┌─┐\n",
       "«     Data: ───────────░─┤ X ├─────┤ X ├───────────░───■────■───░─┤M├\n",
       "«                      ░ └─┬─┘     └─┬─┘┌───┐      ░   │  ┌─┴─┐ ░ └╥┘\n",
       "«  Extra_0: ──■────────░───┼─────────┼──┤ X ├──────░───┼──┤ X ├─░──╫─\n",
       "«             │        ░   │  ┌───┐  │  └─┬─┘┌───┐ ░ ┌─┴─┐└───┘ ░  ║ \n",
       "«  Extra_1: ──┼────■───░───┼──┤ X ├──┼────┼──┤ X ├─░─┤ X ├──────░──╫─\n",
       "«             │    │   ░   │  └─┬─┘  │    │  └─┬─┘ ░ └───┘      ░  ║ \n",
       "«Ancilla_0: ──┼────┼───░───■────┼────■────■────■───░────────────░──╫─\n",
       "«           ┌─┴─┐┌─┴─┐ ░        │    │    │    │   ░            ░  ║ \n",
       "«Ancilla_1: ┤ X ├┤ X ├─░────────■────■────■────■───░────────────░──╫─\n",
       "«           └───┘└───┘ ░                           ░            ░  ║ \n",
       "«Measure: 1/═══════════════════════════════════════════════════════╩═\n",
       "«                                                                  0 "
      ]
     },
     "execution_count": 52,
     "metadata": {},
     "output_type": "execute_result"
    }
   ],
   "source": [
    "n = q.QuantumRegister(1, name = \"Data\")\n",
    "m = q.QuantumRegister(2, name = \"Extra\")\n",
    "qa = q.QuantumRegister(2, name = \"Ancilla\")\n",
    "cl = q.ClassicalRegister(1, name = \"Measure\")\n",
    "circuit = QuantumCircuit(n, m, qa, cl)\n",
    "\n",
    "#Initializing our information qubit\n",
    "initial_state = np.array([np.sqrt(0.7),np.sqrt(0.3)])\n",
    "circuit.initialize(initial_state,0) \n",
    "circuit.barrier()\n",
    "\n",
    "#Encoding Circuit: a|0> + b|1> => a|000> + b|111>\n",
    "circuit.cx(0,1); circuit.cx(0,2)  \n",
    "\n",
    "#Bit Flip Error\n",
    "circuit.barrier()\n",
    "circuit.x(0)\n",
    "circuit.barrier()\n",
    "\n",
    "#Syndrom Circuit\n",
    "circuit.cx(0,3); circuit.cx(1,3)\n",
    "circuit.cx(1,4); circuit.cx(2,4)\n",
    "circuit.barrier()\n",
    "\n",
    "#Recovery Circuit\n",
    "circuit.cx(3,0); circuit.cx(4,2)\n",
    "circuit.ccx(4,3,0)\n",
    "circuit.ccx(4,3,1)\n",
    "circuit.ccx(4,3,2)\n",
    "circuit.barrier()\n",
    "\n",
    "#Decoding Circuit: a|000> + b|111> => a|0> + b|1> \n",
    "circuit.cx(0,2); circuit.cx(0,1)\n",
    "circuit.barrier()\n",
    "\n",
    "#Measurement\n",
    "circuit.measure(0,0)\n",
    "             \n",
    "circuit.draw()\n"
   ]
  },
  {
   "cell_type": "code",
   "execution_count": 53,
   "id": "8ac2f4ac-b366-4cd9-ac1a-0c25b2286914",
   "metadata": {
    "tags": []
   },
   "outputs": [
    {
     "data": {
      "image/png": "[encoded data removed]",
      "text/plain": [
       "<Figure size 700x500 with 1 Axes>"
      ]
     },
     "execution_count": 53,
     "metadata": {},
     "output_type": "execute_result"
    }
   ],
   "source": [
    "aer_sim = Aer.get_backend('aer_simulator')\n",
    "shots = 1000\n",
    "t_c = transpile(circuit, aer_sim)\n",
    "results = aer_sim.run(t_c, shots=shots).result()\n",
    "answer = results.get_counts()\n",
    "\n",
    "qv.plot_histogram(answer)"
   ]
  }
 ],
 "metadata": {
  "kernelspec": {
   "display_name": "Python 3 (ipykernel)",
   "language": "python",
   "name": "python3"
  },
  "language_info": {
   "codemirror_mode": {
    "name": "ipython",
    "version": 3
   },
   "file_extension": ".py",
   "mimetype": "text/x-python",
   "name": "python",
   "nbconvert_exporter": "python",
   "pygments_lexer": "ipython3",
   "version": "3.11.2"
  }
 },
 "nbformat": 4,
 "nbformat_minor": 5
}
