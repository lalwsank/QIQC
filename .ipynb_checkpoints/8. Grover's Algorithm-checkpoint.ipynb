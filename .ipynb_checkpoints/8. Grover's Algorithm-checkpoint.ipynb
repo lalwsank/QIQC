{
 "cells": [
  {
   "cell_type": "markdown",
   "id": "92476fb8-4996-4693-98aa-cab56650caf0",
   "metadata": {},
   "source": [
    "#### Importing Libraries"
   ]
  },
  {
   "cell_type": "code",
   "execution_count": 32,
   "id": "fa122692-1481-44f5-9dac-fc85c8996321",
   "metadata": {
    "tags": []
   },
   "outputs": [],
   "source": [
    "import qiskit as q\n",
    "import qiskit.visualization as qv\n",
    "import numpy as np\n",
    "\n",
    "from qiskit import IBMQ, Aer\n",
    "from qiskit.providers.ibmq import least_busy\n",
    "from qiskit import QuantumCircuit, transpile, assemble\n",
    "from qiskit.tools.monitor import job_monitor\n",
    "from qiskit.circuit.library import GroverOperator\n",
    "\n",
    "import matplotlib.style\n",
    "import matplotlib as plt\n",
    "plt.style.use(\"dark_background\")"
   ]
  },
  {
   "cell_type": "markdown",
   "id": "065b909b-9d34-4426-9043-0df7bfeed982",
   "metadata": {},
   "source": [
    "#### Defining oracles Uf and Ur"
   ]
  },
  {
   "cell_type": "code",
   "execution_count": 126,
   "id": "67d62e10-abc2-4b59-972e-49c89fd3dc23",
   "metadata": {
    "jupyter": {
     "source_hidden": true
    },
    "tags": []
   },
   "outputs": [
    {
     "name": "stdout",
     "output_type": "stream",
     "text": [
      "Uf Circuit:\n"
     ]
    },
    {
     "data": {
      "text/html": [
       "<pre style=\"word-wrap: normal;white-space: pre;background: #fff0;line-height: 1.1;font-family: &quot;Courier New&quot;,Courier,monospace\">                    \n",
       "q_0: ───────■───────\n",
       "     ┌───┐  │  ┌───┐\n",
       "q_1: ┤ X ├──■──┤ X ├\n",
       "     └───┘  │  └───┘\n",
       "q_2: ───────■───────\n",
       "          ┌─┴─┐     \n",
       "q_3: ─────┤ X ├─────\n",
       "          └───┘     </pre>"
      ],
      "text/plain": [
       "                    \n",
       "q_0: ───────■───────\n",
       "     ┌───┐  │  ┌───┐\n",
       "q_1: ┤ X ├──■──┤ X ├\n",
       "     └───┘  │  └───┘\n",
       "q_2: ───────■───────\n",
       "          ┌─┴─┐     \n",
       "q_3: ─────┤ X ├─────\n",
       "          └───┘     "
      ]
     },
     "execution_count": 126,
     "metadata": {},
     "output_type": "execute_result"
    }
   ],
   "source": [
    "def Uf(n, num):\n",
    "    circuit = QuantumCircuit(n+1,name = \"Uf\")\n",
    "    x = np.binary_repr(num, n)[::-1]\n",
    "    for i, j in enumerate(x):\n",
    "        if j == \"0\":\n",
    "            circuit.x(i)\n",
    "    \n",
    "    circuit.mcx(list(range(n)),n)\n",
    "    \n",
    "    for i, j in enumerate(x):\n",
    "        if j == \"0\":\n",
    "            circuit.x(i)\n",
    "    \n",
    "    return circuit\n",
    "print(\"Uf Circuit:\")\n",
    "Uf(3,5).draw()"
   ]
  },
  {
   "cell_type": "code",
   "execution_count": 127,
   "id": "3211a113-a6bf-4a03-8745-3d13843842c8",
   "metadata": {
    "jupyter": {
     "source_hidden": true
    },
    "tags": []
   },
   "outputs": [
    {
     "name": "stdout",
     "output_type": "stream",
     "text": [
      "diffuser Circuit:\n"
     ]
    },
    {
     "data": {
      "text/html": [
       "<pre style=\"word-wrap: normal;white-space: pre;background: #fff0;line-height: 1.1;font-family: &quot;Courier New&quot;,Courier,monospace\">     ┌───┐┌───┐     ┌───┐┌───┐\n",
       "q_0: ┤ H ├┤ X ├──■──┤ X ├┤ H ├\n",
       "     ├───┤├───┤  │  ├───┤├───┤\n",
       "q_1: ┤ H ├┤ X ├──■──┤ X ├┤ H ├\n",
       "     ├───┤├───┤  │  ├───┤├───┤\n",
       "q_2: ┤ H ├┤ X ├──■──┤ X ├┤ H ├\n",
       "     └───┘└───┘┌─┴─┐└───┘└───┘\n",
       "q_3: ──────────┤ X ├──────────\n",
       "               └───┘          </pre>"
      ],
      "text/plain": [
       "     ┌───┐┌───┐     ┌───┐┌───┐\n",
       "q_0: ┤ H ├┤ X ├──■──┤ X ├┤ H ├\n",
       "     ├───┤├───┤  │  ├───┤├───┤\n",
       "q_1: ┤ H ├┤ X ├──■──┤ X ├┤ H ├\n",
       "     ├───┤├───┤  │  ├───┤├───┤\n",
       "q_2: ┤ H ├┤ X ├──■──┤ X ├┤ H ├\n",
       "     └───┘└───┘┌─┴─┐└───┘└───┘\n",
       "q_3: ──────────┤ X ├──────────\n",
       "               └───┘          "
      ]
     },
     "execution_count": 127,
     "metadata": {},
     "output_type": "execute_result"
    }
   ],
   "source": [
    "def diffuser(n):\n",
    "    circuit = QuantumCircuit(n+1, name =\"diffuser\")\n",
    "    circuit.h(range(n))\n",
    "    circuit.x(range(n))\n",
    "    circuit.mcx(list(range(n)),n)\n",
    "    circuit.x(range(n))\n",
    "    circuit.h(range(n))\n",
    "    return circuit\n",
    "print(\"diffuser Circuit:\")\n",
    "diffuser(3).draw()"
   ]
  },
  {
   "cell_type": "code",
   "execution_count": 122,
   "id": "26037342-7a88-4e96-aa46-1629c72603c9",
   "metadata": {
    "tags": []
   },
   "outputs": [
    {
     "data": {
      "text/html": [
       "<pre style=\"word-wrap: normal;white-space: pre;background: #fff0;line-height: 1.1;font-family: &quot;Courier New&quot;,Courier,monospace\">     ┌───┐     ┌─────┐┌───────────┐┌─────┐┌───────────┐┌─────┐┌───────────┐┌─┐»\n",
       "q_0: ┤ H ├─────┤0    ├┤0          ├┤0    ├┤0          ├┤0    ├┤0          ├┤M├»\n",
       "     ├───┤     │     ││           ││     ││           ││     ││           │└╥┘»\n",
       "q_1: ┤ H ├─────┤1    ├┤1          ├┤1    ├┤1          ├┤1    ├┤1          ├─╫─»\n",
       "     ├───┤     │     ││           ││     ││           ││     ││           │ ║ »\n",
       "q_2: ┤ H ├─────┤2 Uf ├┤2 diffuser ├┤2 Uf ├┤2 diffuser ├┤2 Uf ├┤2 diffuser ├─╫─»\n",
       "     ├───┤     │     ││           ││     ││           ││     ││           │ ║ »\n",
       "q_3: ┤ H ├─────┤3    ├┤3          ├┤3    ├┤3          ├┤3    ├┤3          ├─╫─»\n",
       "     ├───┤┌───┐│     ││           ││     ││           ││     ││           │ ║ »\n",
       "q_4: ┤ X ├┤ H ├┤4    ├┤4          ├┤4    ├┤4          ├┤4    ├┤4          ├─╫─»\n",
       "     └───┘└───┘└─────┘└───────────┘└─────┘└───────────┘└─────┘└───────────┘ ║ »\n",
       "c: 4/═══════════════════════════════════════════════════════════════════════╩═»\n",
       "                                                                            0 »\n",
       "«              \n",
       "«q_0: ─────────\n",
       "«     ┌─┐      \n",
       "«q_1: ┤M├──────\n",
       "«     └╥┘┌─┐   \n",
       "«q_2: ─╫─┤M├───\n",
       "«      ║ └╥┘┌─┐\n",
       "«q_3: ─╫──╫─┤M├\n",
       "«      ║  ║ └╥┘\n",
       "«q_4: ─╫──╫──╫─\n",
       "«      ║  ║  ║ \n",
       "«c: 4/═╩══╩══╩═\n",
       "«      1  2  3 </pre>"
      ],
      "text/plain": [
       "     ┌───┐     ┌─────┐┌───────────┐┌─────┐┌───────────┐┌─────┐┌───────────┐┌─┐»\n",
       "q_0: ┤ H ├─────┤0    ├┤0          ├┤0    ├┤0          ├┤0    ├┤0          ├┤M├»\n",
       "     ├───┤     │     ││           ││     ││           ││     ││           │└╥┘»\n",
       "q_1: ┤ H ├─────┤1    ├┤1          ├┤1    ├┤1          ├┤1    ├┤1          ├─╫─»\n",
       "     ├───┤     │     ││           ││     ││           ││     ││           │ ║ »\n",
       "q_2: ┤ H ├─────┤2 Uf ├┤2 diffuser ├┤2 Uf ├┤2 diffuser ├┤2 Uf ├┤2 diffuser ├─╫─»\n",
       "     ├───┤     │     ││           ││     ││           ││     ││           │ ║ »\n",
       "q_3: ┤ H ├─────┤3    ├┤3          ├┤3    ├┤3          ├┤3    ├┤3          ├─╫─»\n",
       "     ├───┤┌───┐│     ││           ││     ││           ││     ││           │ ║ »\n",
       "q_4: ┤ X ├┤ H ├┤4    ├┤4          ├┤4    ├┤4          ├┤4    ├┤4          ├─╫─»\n",
       "     └───┘└───┘└─────┘└───────────┘└─────┘└───────────┘└─────┘└───────────┘ ║ »\n",
       "c: 4/═══════════════════════════════════════════════════════════════════════╩═»\n",
       "                                                                            0 »\n",
       "«              \n",
       "«q_0: ─────────\n",
       "«     ┌─┐      \n",
       "«q_1: ┤M├──────\n",
       "«     └╥┘┌─┐   \n",
       "«q_2: ─╫─┤M├───\n",
       "«      ║ └╥┘┌─┐\n",
       "«q_3: ─╫──╫─┤M├\n",
       "«      ║  ║ └╥┘\n",
       "«q_4: ─╫──╫──╫─\n",
       "«      ║  ║  ║ \n",
       "«c: 4/═╩══╩══╩═\n",
       "«      1  2  3 "
      ]
     },
     "execution_count": 122,
     "metadata": {},
     "output_type": "execute_result"
    }
   ],
   "source": [
    "n = 4; num = 10\n",
    "\n",
    "grover = QuantumCircuit(n+1,n)\n",
    "nsol = 1 # No. of Solutions\n",
    "\n",
    "# Initialize the total number of times we pass the oracles\n",
    "r = int(np.floor(np.pi/4*np.sqrt(2**n)/nsol))\n",
    "\n",
    "grover.h(range(n))\n",
    "\n",
    "#Initiate Last Qubit in |-> state\n",
    "grover.x(n) \n",
    "grover.h(n) \n",
    "\n",
    "#Apply r rounds of Uf and Diffuser Circuits\n",
    "for i in range(r):\n",
    "    grover.append( Uf(n, num), grover.qubits[0:n+1] )\n",
    "    grover.append( diffuser(n), grover.qubits[0:n+1] )\n",
    "\n",
    "grover.measure(range(n),range(n))\n",
    "grover.draw()"
   ]
  },
  {
   "cell_type": "code",
   "execution_count": 123,
   "id": "8ac2f4ac-b366-4cd9-ac1a-0c25b2286914",
   "metadata": {
    "tags": []
   },
   "outputs": [
    {
     "data": {
      "image/png": "[encoded data removed]",
      "text/plain": [
       "<Figure size 700x500 with 1 Axes>"
      ]
     },
     "execution_count": 123,
     "metadata": {},
     "output_type": "execute_result"
    }
   ],
   "source": [
    "aer_sim = Aer.get_backend('aer_simulator')\n",
    "shots = 1000\n",
    "t_grover = transpile(grover, aer_sim)\n",
    "results = aer_sim.run(t_grover, shots=shots).result()\n",
    "answer = results.get_counts()\n",
    "\n",
    "qv.plot_histogram(answer)"
   ]
  },
  {
   "cell_type": "code",
   "execution_count": null,
   "id": "56df724d-b794-4046-be46-580cfc9c1804",
   "metadata": {},
   "outputs": [],
   "source": []
  }
 ],
 "metadata": {
  "kernelspec": {
   "display_name": "Python 3 (ipykernel)",
   "language": "python",
   "name": "python3"
  },
  "language_info": {
   "codemirror_mode": {
    "name": "ipython",
    "version": 3
   },
   "file_extension": ".py",
   "mimetype": "text/x-python",
   "name": "python",
   "nbconvert_exporter": "python",
   "pygments_lexer": "ipython3",
   "version": "3.11.2"
  }
 },
 "nbformat": 4,
 "nbformat_minor": 5
}
