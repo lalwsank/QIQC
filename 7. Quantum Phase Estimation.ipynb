{
 "cells": [
  {
   "cell_type": "markdown",
   "id": "dominican-marsh",
   "metadata": {
    "tags": []
   },
   "source": [
    "## Import Important Libraries"
   ]
  },
  {
   "cell_type": "code",
   "execution_count": 7,
   "id": "peripheral-edmonton",
   "metadata": {
    "tags": []
   },
   "outputs": [],
   "source": [
    "import numpy as np\n",
    "\n",
    "from qiskit.circuit.library import QFT\n",
    "import qiskit.visualization as qv\n",
    "from qiskit import IBMQ, Aer, QuantumCircuit, transpile, assemble\n",
    "from qiskit.providers.ibmq import least_busy\n",
    "from qiskit.quantum_info import Statevector\n",
    "from qiskit.tools.monitor import job_monitor\n",
    "\n",
    "import matplotlib.style\n",
    "import matplotlib as plt\n",
    "plt.style.use(\"dark_background\")"
   ]
  },
  {
   "cell_type": "markdown",
   "id": "later-heart",
   "metadata": {
    "tags": []
   },
   "source": [
    "#### Defining the Inverse QFT Circuit Function"
   ]
  },
  {
   "cell_type": "code",
   "execution_count": 8,
   "id": "7e59331e-3740-4fde-b8e3-20aadad84795",
   "metadata": {
    "tags": []
   },
   "outputs": [],
   "source": [
    "def InvQFT(n):\n",
    "    circuit = QuantumCircuit(n, name =\"InQFT\")\n",
    "    circuit.qubits[::-n]\n",
    "    for k in range(0, int(n/2)):\n",
    "        circuit.swap(k, n-1-k) \n",
    "    circuit.barrier()\n",
    "    for i in range(n):\n",
    "        circuit.h(i)\n",
    "        for j in range(i+1, n):\n",
    "            circuit.cu(0, 0, -np.pi/(2**(j-i)),0 ,j, i)\n",
    "        circuit.barrier() \n",
    "    return circuit"
   ]
  },
  {
   "cell_type": "code",
   "execution_count": 9,
   "id": "f41f30eb-fecb-48fd-b46b-963013545eb9",
   "metadata": {
    "tags": []
   },
   "outputs": [
    {
     "data": {
      "text/html": [
       "<pre style=\"word-wrap: normal;white-space: pre;background: #fff0;line-height: 1.1;font-family: &quot;Courier New&quot;,Courier,monospace\">     ┌───┐ ░                                                    »\n",
       "q_0: ┤ H ├─░─────────■──────────────────────────────────────────»\n",
       "     ├───┤ ░         │                                          »\n",
       "q_1: ┤ H ├─░─────────┼────────────────■────────────────■────────»\n",
       "     ├───┤ ░         │                │                │        »\n",
       "q_2: ┤ H ├─░─────────┼────────────────┼────────────────┼────────»\n",
       "     ├───┤ ░         │                │                │        »\n",
       "q_3: ┤ H ├─░─────────┼────────────────┼────────────────┼────────»\n",
       "     ├───┤ ░ ┌───────┴───────┐┌───────┴───────┐┌───────┴───────┐»\n",
       "q_4: ┤ X ├─░─┤ U(0,0,2π/3,0) ├┤ U(0,0,2π/3,0) ├┤ U(0,0,2π/3,0) ├»\n",
       "     └───┘ ░ └───────────────┘└───────────────┘└───────────────┘»\n",
       "c: 4/═══════════════════════════════════════════════════════════»\n",
       "                                                                »\n",
       "«                                                                         »\n",
       "«q_0: ────────────────────────────────────────────────────────────────────»\n",
       "«                                                                         »\n",
       "«q_1: ────────────────────────────────────────────────────────────────────»\n",
       "«                                                                         »\n",
       "«q_2: ────────■────────────────■────────────────■────────────────■────────»\n",
       "«             │                │                │                │        »\n",
       "«q_3: ────────┼────────────────┼────────────────┼────────────────┼────────»\n",
       "«     ┌───────┴───────┐┌───────┴───────┐┌───────┴───────┐┌───────┴───────┐»\n",
       "«q_4: ┤ U(0,0,2π/3,0) ├┤ U(0,0,2π/3,0) ├┤ U(0,0,2π/3,0) ├┤ U(0,0,2π/3,0) ├»\n",
       "«     └───────────────┘└───────────────┘└───────────────┘└───────────────┘»\n",
       "«c: 4/════════════════════════════════════════════════════════════════════»\n",
       "«                                                                         »\n",
       "«                                                                         »\n",
       "«q_0: ────────────────────────────────────────────────────────────────────»\n",
       "«                                                                         »\n",
       "«q_1: ────────────────────────────────────────────────────────────────────»\n",
       "«                                                                         »\n",
       "«q_2: ────────────────────────────────────────────────────────────────────»\n",
       "«                                                                         »\n",
       "«q_3: ────────■────────────────■────────────────■────────────────■────────»\n",
       "«     ┌───────┴───────┐┌───────┴───────┐┌───────┴───────┐┌───────┴───────┐»\n",
       "«q_4: ┤ U(0,0,2π/3,0) ├┤ U(0,0,2π/3,0) ├┤ U(0,0,2π/3,0) ├┤ U(0,0,2π/3,0) ├»\n",
       "«     └───────────────┘└───────────────┘└───────────────┘└───────────────┘»\n",
       "«c: 4/════════════════════════════════════════════════════════════════════»\n",
       "«                                                                         »\n",
       "«                                                                          ░ »\n",
       "«q_0: ─────────────────────────────────────────────────────────────────────░─»\n",
       "«                                                                          ░ »\n",
       "«q_1: ─────────────────────────────────────────────────────────────────────░─»\n",
       "«                                                                          ░ »\n",
       "«q_2: ─────────────────────────────────────────────────────────────────────░─»\n",
       "«                                                                          ░ »\n",
       "«q_3: ────────■────────────────■────────────────■────────────────■─────────░─»\n",
       "«     ┌───────┴───────┐┌───────┴───────┐┌───────┴───────┐┌───────┴───────┐ ░ »\n",
       "«q_4: ┤ U(0,0,2π/3,0) ├┤ U(0,0,2π/3,0) ├┤ U(0,0,2π/3,0) ├┤ U(0,0,2π/3,0) ├─░─»\n",
       "«     └───────────────┘└───────────────┘└───────────────┘└───────────────┘ ░ »\n",
       "«c: 4/═══════════════════════════════════════════════════════════════════════»\n",
       "«                                                                            »\n",
       "«     ┌────────┐ ░ ┌─┐         \n",
       "«q_0: ┤0       ├─░─┤M├─────────\n",
       "«     │        │ ░ └╥┘┌─┐      \n",
       "«q_1: ┤1       ├─░──╫─┤M├──────\n",
       "«     │  InQFT │ ░  ║ └╥┘┌─┐   \n",
       "«q_2: ┤2       ├─░──╫──╫─┤M├───\n",
       "«     │        │ ░  ║  ║ └╥┘┌─┐\n",
       "«q_3: ┤3       ├─░──╫──╫──╫─┤M├\n",
       "«     └────────┘ ░  ║  ║  ║ └╥┘\n",
       "«q_4: ───────────░──╫──╫──╫──╫─\n",
       "«                ░  ║  ║  ║  ║ \n",
       "«c: 4/══════════════╩══╩══╩══╩═\n",
       "«                   0  1  2  3 </pre>"
      ],
      "text/plain": [
       "     ┌───┐ ░                                                    »\n",
       "q_0: ┤ H ├─░─────────■──────────────────────────────────────────»\n",
       "     ├───┤ ░         │                                          »\n",
       "q_1: ┤ H ├─░─────────┼────────────────■────────────────■────────»\n",
       "     ├───┤ ░         │                │                │        »\n",
       "q_2: ┤ H ├─░─────────┼────────────────┼────────────────┼────────»\n",
       "     ├───┤ ░         │                │                │        »\n",
       "q_3: ┤ H ├─░─────────┼────────────────┼────────────────┼────────»\n",
       "     ├───┤ ░ ┌───────┴───────┐┌───────┴───────┐┌───────┴───────┐»\n",
       "q_4: ┤ X ├─░─┤ U(0,0,2π/3,0) ├┤ U(0,0,2π/3,0) ├┤ U(0,0,2π/3,0) ├»\n",
       "     └───┘ ░ └───────────────┘└───────────────┘└───────────────┘»\n",
       "c: 4/═══════════════════════════════════════════════════════════»\n",
       "                                                                »\n",
       "«                                                                         »\n",
       "«q_0: ────────────────────────────────────────────────────────────────────»\n",
       "«                                                                         »\n",
       "«q_1: ────────────────────────────────────────────────────────────────────»\n",
       "«                                                                         »\n",
       "«q_2: ────────■────────────────■────────────────■────────────────■────────»\n",
       "«             │                │                │                │        »\n",
       "«q_3: ────────┼────────────────┼────────────────┼────────────────┼────────»\n",
       "«     ┌───────┴───────┐┌───────┴───────┐┌───────┴───────┐┌───────┴───────┐»\n",
       "«q_4: ┤ U(0,0,2π/3,0) ├┤ U(0,0,2π/3,0) ├┤ U(0,0,2π/3,0) ├┤ U(0,0,2π/3,0) ├»\n",
       "«     └───────────────┘└───────────────┘└───────────────┘└───────────────┘»\n",
       "«c: 4/════════════════════════════════════════════════════════════════════»\n",
       "«                                                                         »\n",
       "«                                                                         »\n",
       "«q_0: ────────────────────────────────────────────────────────────────────»\n",
       "«                                                                         »\n",
       "«q_1: ────────────────────────────────────────────────────────────────────»\n",
       "«                                                                         »\n",
       "«q_2: ────────────────────────────────────────────────────────────────────»\n",
       "«                                                                         »\n",
       "«q_3: ────────■────────────────■────────────────■────────────────■────────»\n",
       "«     ┌───────┴───────┐┌───────┴───────┐┌───────┴───────┐┌───────┴───────┐»\n",
       "«q_4: ┤ U(0,0,2π/3,0) ├┤ U(0,0,2π/3,0) ├┤ U(0,0,2π/3,0) ├┤ U(0,0,2π/3,0) ├»\n",
       "«     └───────────────┘└───────────────┘└───────────────┘└───────────────┘»\n",
       "«c: 4/════════════════════════════════════════════════════════════════════»\n",
       "«                                                                         »\n",
       "«                                                                          ░ »\n",
       "«q_0: ─────────────────────────────────────────────────────────────────────░─»\n",
       "«                                                                          ░ »\n",
       "«q_1: ─────────────────────────────────────────────────────────────────────░─»\n",
       "«                                                                          ░ »\n",
       "«q_2: ─────────────────────────────────────────────────────────────────────░─»\n",
       "«                                                                          ░ »\n",
       "«q_3: ────────■────────────────■────────────────■────────────────■─────────░─»\n",
       "«     ┌───────┴───────┐┌───────┴───────┐┌───────┴───────┐┌───────┴───────┐ ░ »\n",
       "«q_4: ┤ U(0,0,2π/3,0) ├┤ U(0,0,2π/3,0) ├┤ U(0,0,2π/3,0) ├┤ U(0,0,2π/3,0) ├─░─»\n",
       "«     └───────────────┘└───────────────┘└───────────────┘└───────────────┘ ░ »\n",
       "«c: 4/═══════════════════════════════════════════════════════════════════════»\n",
       "«                                                                            »\n",
       "«     ┌────────┐ ░ ┌─┐         \n",
       "«q_0: ┤0       ├─░─┤M├─────────\n",
       "«     │        │ ░ └╥┘┌─┐      \n",
       "«q_1: ┤1       ├─░──╫─┤M├──────\n",
       "«     │  InQFT │ ░  ║ └╥┘┌─┐   \n",
       "«q_2: ┤2       ├─░──╫──╫─┤M├───\n",
       "«     │        │ ░  ║  ║ └╥┘┌─┐\n",
       "«q_3: ┤3       ├─░──╫──╫──╫─┤M├\n",
       "«     └────────┘ ░  ║  ║  ║ └╥┘\n",
       "«q_4: ───────────░──╫──╫──╫──╫─\n",
       "«                ░  ║  ║  ║  ║ \n",
       "«c: 4/══════════════╩══╩══╩══╩═\n",
       "«                   0  1  2  3 "
      ]
     },
     "execution_count": 9,
     "metadata": {},
     "output_type": "execute_result"
    }
   ],
   "source": [
    "n = 4 # Controlled Qubits\n",
    "m = 1 # Target Qubit\n",
    "\n",
    "qpe = QuantumCircuit(n+m,n)\n",
    "for i in range(n):\n",
    "    qpe.h(i)\n",
    "    \n",
    "for j in range(m):\n",
    "    qpe.x(j+n)\n",
    "\n",
    "qpe.barrier()\n",
    "\n",
    "x = 1\n",
    "for i in range(n):\n",
    "    for j in range(x):\n",
    "        qpe.cu(0, 0, 2*np.pi/3, 0, i, n)\n",
    "        x = x+1\n",
    "    \n",
    "qpe.barrier()\n",
    "    \n",
    "qpe.append(InvQFT(n), qpe.qubits[0:n])\n",
    "    \n",
    "qpe.barrier()\n",
    "for i in range(n):\n",
    "    qpe.measure(i,i)\n",
    "qpe.draw()"
   ]
  },
  {
   "cell_type": "code",
   "execution_count": 10,
   "id": "fe7ca842-fe65-4e3c-8600-8353fca10a47",
   "metadata": {
    "tags": []
   },
   "outputs": [
    {
     "data": {
      "image/png": "[encoded data removed]",
      "text/plain": [
       "<Figure size 700x500 with 1 Axes>"
      ]
     },
     "execution_count": 10,
     "metadata": {},
     "output_type": "execute_result"
    }
   ],
   "source": [
    "aer_sim = Aer.get_backend('aer_simulator')\n",
    "shots = 1000\n",
    "t_qpe = transpile(qpe, aer_sim)\n",
    "results = aer_sim.run(t_qpe, shots=shots).result()\n",
    "answer = results.get_counts()\n",
    "\n",
    "qv.plot_histogram(answer)"
   ]
  },
  {
   "cell_type": "code",
   "execution_count": null,
   "id": "21da6faf-8bdd-4e15-8ae8-e4a20fad2437",
   "metadata": {
    "tags": []
   },
   "outputs": [],
   "source": [
    "#We see we get one result (001) with certainty, which translates to the decimal: 1. We now need to divide our result by 2^n to get Theta:\n",
    "# Theta = Binary(001)/2^n = 1/8 "
   ]
  }
 ],
 "metadata": {
  "kernelspec": {
   "display_name": "Python 3 (ipykernel)",
   "language": "python",
   "name": "python3"
  },
  "language_info": {
   "codemirror_mode": {
    "name": "ipython",
    "version": 3
   },
   "file_extension": ".py",
   "mimetype": "text/x-python",
   "name": "python",
   "nbconvert_exporter": "python",
   "pygments_lexer": "ipython3",
   "version": "3.11.2"
  }
 },
 "nbformat": 4,
 "nbformat_minor": 5
}
